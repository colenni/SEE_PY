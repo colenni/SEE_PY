{
  "metadata": {
    "kernelspec": {
      "name": "SQLite",
      "display_name": "SQLite",
      "language": "sql"
    },
    "language_info": {
      "codemirror_mode": "sql",
      "file_extension": "",
      "mimetype": "",
      "name": "sql",
      "version": "3.32.3"
    }
  },
  "nbformat_minor": 5,
  "nbformat": 4,
  "cells": [
    {
      "id": "bacf4c8e-b64c-4e0e-8e8e-f67143bd3d87",
      "cell_type": "markdown",
      "source": "## **Sessa Empirical Estimator**  \n### *By Jyreneah Angel and Nicole Grace Joligon* ",
      "metadata": {}
    },
    {
      "id": "9e2232b7-08bc-4278-b5f5-d29c67633e31",
      "cell_type": "code",
      "source": "import pandas as pd\nimport numpy as np\nimport matplotlib.pyplot as plt\nimport seaborn as sns\nfrom scipy.stats import gaussian_kde\nfrom sklearn.cluster import KMeans\nfrom sklearn.preprocessing import StandardScaler\nfrom scipy.stats import ecdf",
      "metadata": {
        "trusted": true
      },
      "outputs": [],
      "execution_count": null
    },
    {
      "id": "fd254876-1496-43b7-bdbb-f28f831a474b",
      "cell_type": "code",
      "source": "# Simulated dataset based on med.events structure\ndata = pd.DataFrame({\n    'pnr': np.repeat(np.arange(1, 11), 5),  # 10 patients\n    'eksd': pd.date_range(start='2025-01-01', periods=50, freq='7D'),  # Prescription dates\n    'perday': np.random.randint(1, 4, size=50),  # Dosage per day\n    'ATC': np.random.choice(['C09CA01', 'C07AB02'], size=50),  # Drug classification\n    'dur_original': np.random.randint(10, 30, size=50)  # Prescribed duration\n})\n\ndef see_algorithm(data, drug_name):\n    drug_data = data[data['ATC'] == drug_name].copy()\n    drug_data.sort_values(by=['pnr', 'eksd'], inplace=True)\n    drug_data['prev_eksd'] = drug_data.groupby('pnr')['eksd'].shift(1)\n    drug_data = drug_data.dropna()\n    drug_data['event_interval'] = (drug_data['eksd'] - drug_data['prev_eksd']).dt.days\n    \n    # Compute ECDF & Retain 80%\n    ecdf_values = np.sort(drug_data['event_interval'])\n    threshold = np.percentile(ecdf_values, 80)\n    filtered_data = drug_data[drug_data['event_interval'] <= threshold]\n    \n    # Log transformation and clustering\n    filtered_data['log_interval'] = np.log(filtered_data['event_interval'])\n    scaler = StandardScaler()\n    scaled_intervals = scaler.fit_transform(filtered_data[['log_interval']])\n    \n    # Determine optimal k using silhouette (skipping for simplicity in this version)\n    optimal_k = 3  # Placeholder, should use silhouette method\n    kmeans = KMeans(n_clusters=optimal_k, random_state=42).fit(scaled_intervals)\n    filtered_data['Cluster'] = kmeans.labels_\n    \n    # Assign Median duration per cluster\n    cluster_medians = filtered_data.groupby('Cluster')['event_interval'].median()\n    filtered_data['Predicted_Duration'] = filtered_data['Cluster'].map(cluster_medians)\n    \n    return filtered_data[['pnr', 'eksd', 'Predicted_Duration', 'Cluster']]\n\n# Run for both medications\nmedA_results = see_algorithm(data, 'C09CA01')\nmedB_results = see_algorithm(data, 'C07AB02')\n\n# Visualization of duration assumptions\ndef visualize_assumptions(results, drug_name):\n    plt.figure(figsize=(10, 5))\n    sns.boxplot(x='Cluster', y='Predicted_Duration', data=results)\n    plt.title(f'Duration Assumption for {drug_name}')\n    plt.show()\n\nvisualize_assumptions(medA_results, 'C09CA01')\nvisualize_assumptions(medB_results, 'C07AB02')\n",
      "metadata": {
        "trusted": true
      },
      "outputs": [
        {
          "ename": "Error",
          "evalue": "Please load a database to perform operations",
          "traceback": [
            "Error: Please load a database to perform operations"
          ],
          "output_type": "error"
        }
      ],
      "execution_count": 3
    },
    {
      "id": "c90b7f3f-0bf7-40e9-998b-ef2e06065230",
      "cell_type": "code",
      "source": "",
      "metadata": {
        "trusted": true
      },
      "outputs": [],
      "execution_count": null
    },
    {
      "id": "16aff115-63b0-4ff9-acfe-4c80c8a0f4fd",
      "cell_type": "code",
      "source": "",
      "metadata": {
        "trusted": true
      },
      "outputs": [],
      "execution_count": null
    }
  ]
}