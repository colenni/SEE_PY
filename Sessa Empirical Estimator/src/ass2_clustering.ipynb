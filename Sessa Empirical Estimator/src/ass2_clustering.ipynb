{
  "metadata": {
    "kernelspec": {
      "name": "python",
      "display_name": "Python (Pyodide)",
      "language": "python"
    },
    "language_info": {
      "codemirror_mode": {
        "name": "python",
        "version": 3
      },
      "file_extension": ".py",
      "mimetype": "text/x-python",
      "name": "python",
      "nbconvert_exporter": "python",
      "pygments_lexer": "ipython3",
      "version": "3.8"
    }
  },
  "nbformat_minor": 5,
  "nbformat": 4,
  "cells": [
    {
      "id": "bacf4c8e-b64c-4e0e-8e8e-f67143bd3d87",
      "cell_type": "markdown",
      "source": "## **Sessa Empirical Estimator**  \n### *By Jyreneah Angel and Nicole Grace Joligon* ",
      "metadata": {}
    },
    {
      "id": "e48b299c-db63-4ad2-8424-6b1a67e25dc7",
      "cell_type": "markdown",
      "source": "## **Import Libraries**",
      "metadata": {}
    },
    {
      "id": "9e2232b7-08bc-4278-b5f5-d29c67633e31",
      "cell_type": "code",
      "source": "import pandas as pd\nimport numpy as np\nimport matplotlib.pyplot as plt\nimport seaborn as sns\nfrom scipy.stats import gaussian_kde\nfrom sklearn.cluster import KMeans\nfrom sklearn.preprocessing import StandardScaler\nfrom scipy.stats import ecdf",
      "metadata": {
        "trusted": true
      },
      "outputs": [
        {
          "name": "stderr",
          "output_type": "stream",
          "text": "Matplotlib is building the font cache; this may take a moment.\n"
        },
        {
          "ename": "<class 'ModuleNotFoundError'>",
          "evalue": "No module named 'seaborn'",
          "traceback": [
            "\u001b[0;31m---------------------------------------------------------------------------\u001b[0m",
            "\u001b[0;31mModuleNotFoundError\u001b[0m                       Traceback (most recent call last)",
            "Cell \u001b[0;32mIn[4], line 4\u001b[0m\n\u001b[1;32m      2\u001b[0m \u001b[38;5;28;01mimport\u001b[39;00m \u001b[38;5;21;01mnumpy\u001b[39;00m \u001b[38;5;28;01mas\u001b[39;00m \u001b[38;5;21;01mnp\u001b[39;00m\n\u001b[1;32m      3\u001b[0m \u001b[38;5;28;01mimport\u001b[39;00m \u001b[38;5;21;01mmatplotlib\u001b[39;00m\u001b[38;5;21;01m.\u001b[39;00m\u001b[38;5;21;01mpyplot\u001b[39;00m \u001b[38;5;28;01mas\u001b[39;00m \u001b[38;5;21;01mplt\u001b[39;00m\n\u001b[0;32m----> 4\u001b[0m \u001b[38;5;28;01mimport\u001b[39;00m \u001b[38;5;21;01mseaborn\u001b[39;00m \u001b[38;5;28;01mas\u001b[39;00m \u001b[38;5;21;01msns\u001b[39;00m\n\u001b[1;32m      5\u001b[0m \u001b[38;5;28;01mfrom\u001b[39;00m \u001b[38;5;21;01mscipy\u001b[39;00m\u001b[38;5;21;01m.\u001b[39;00m\u001b[38;5;21;01mstats\u001b[39;00m \u001b[38;5;28;01mimport\u001b[39;00m gaussian_kde\n\u001b[1;32m      6\u001b[0m \u001b[38;5;28;01mfrom\u001b[39;00m \u001b[38;5;21;01msklearn\u001b[39;00m\u001b[38;5;21;01m.\u001b[39;00m\u001b[38;5;21;01mcluster\u001b[39;00m \u001b[38;5;28;01mimport\u001b[39;00m KMeans\n",
            "\u001b[0;31mModuleNotFoundError\u001b[0m: No module named 'seaborn'"
          ],
          "output_type": "error"
        }
      ],
      "execution_count": 4
    },
    {
      "id": "f31b743d-f8bb-4ddb-9528-0f232a62f6e1",
      "cell_type": "markdown",
      "source": "## **Conversion**",
      "metadata": {}
    },
    {
      "id": "b69d9d6d-7407-4634-980a-0ece479a4a0c",
      "cell_type": "markdown",
      "source": "**Import Dataset**",
      "metadata": {}
    },
    {
      "id": "83d1b0aa-50b0-4279-ab30-97e1fcb836eb",
      "cell_type": "code",
      "source": "# Load simulated data based on med.events\nimport pandas as pd\n\nsimulated_df = pd.read_csv(\"../med_events.csv\")\n\n# Display the last few rows\nprint(simulated_df.tail())",
      "metadata": {
        "trusted": true
      },
      "outputs": [
        {
          "name": "stdout",
          "output_type": "stream",
          "text": "     PATIENT_ID        DATE  PERDAY CATEGORY  DURATION\n995          45  01/03/2023       2     medA        14\n996          38  05/04/2023       1     medA        14\n997          11  05/02/2022       5     medD        90\n998          28  11/27/2022       3     medB        90\n999          13  05/19/2023       4     medB        90\n"
        }
      ],
      "execution_count": 1
    },
    {
      "id": "79a74d33-71c5-48e1-88e5-348e08db5bf4",
      "cell_type": "markdown",
      "source": "**Match R function**",
      "metadata": {}
    },
    {
      "id": "5e7a7bcd-a1d8-488a-9a07-844c1b1e3e3f",
      "cell_type": "code",
      "source": "# Rename columns in the dataframe\nnew_columns = [\"pnr\", \"eksd\", \"perday\", \"ATC\", \"dur_original\"]\nsimulated_df = simulated_df.set_axis(new_columns, axis=1)\n\n# Display the first few rows\nsimulated_df.head()",
      "metadata": {
        "trusted": true
      },
      "outputs": [
        {
          "execution_count": 2,
          "output_type": "execute_result",
          "data": {
            "text/plain": "   pnr        eksd  perday   ATC  dur_original\n0   10  12/24/2023       4  medE            90\n1   13  01/09/2022       3  medE            30\n2    7  02/22/2022       5  medE            30\n3   16  06/22/2023       3  medC             7\n4   33  11/03/2022       4  medC             7",
            "text/html": "<div>\n<style scoped>\n    .dataframe tbody tr th:only-of-type {\n        vertical-align: middle;\n    }\n\n    .dataframe tbody tr th {\n        vertical-align: top;\n    }\n\n    .dataframe thead th {\n        text-align: right;\n    }\n</style>\n<table border=\"1\" class=\"dataframe\">\n  <thead>\n    <tr style=\"text-align: right;\">\n      <th></th>\n      <th>pnr</th>\n      <th>eksd</th>\n      <th>perday</th>\n      <th>ATC</th>\n      <th>dur_original</th>\n    </tr>\n  </thead>\n  <tbody>\n    <tr>\n      <th>0</th>\n      <td>10</td>\n      <td>12/24/2023</td>\n      <td>4</td>\n      <td>medE</td>\n      <td>90</td>\n    </tr>\n    <tr>\n      <th>1</th>\n      <td>13</td>\n      <td>01/09/2022</td>\n      <td>3</td>\n      <td>medE</td>\n      <td>30</td>\n    </tr>\n    <tr>\n      <th>2</th>\n      <td>7</td>\n      <td>02/22/2022</td>\n      <td>5</td>\n      <td>medE</td>\n      <td>30</td>\n    </tr>\n    <tr>\n      <th>3</th>\n      <td>16</td>\n      <td>06/22/2023</td>\n      <td>3</td>\n      <td>medC</td>\n      <td>7</td>\n    </tr>\n    <tr>\n      <th>4</th>\n      <td>33</td>\n      <td>11/03/2022</td>\n      <td>4</td>\n      <td>medC</td>\n      <td>7</td>\n    </tr>\n  </tbody>\n</table>\n</div>"
          },
          "metadata": {}
        }
      ],
      "execution_count": 2
    },
    {
      "id": "4166bea8-48ad-4897-866b-3d6fc197ca37",
      "cell_type": "markdown",
      "source": "**eksd string to DateTime**",
      "metadata": {}
    },
    {
      "id": "ea3c96dd-36d2-4c72-aa98-9b324dc50d9c",
      "cell_type": "code",
      "source": "simulated_df['eksd'] = pd.to_datetime(simulated_df['eksd'])\n\nsimulated_df.head()",
      "metadata": {
        "trusted": true
      },
      "outputs": [
        {
          "execution_count": 3,
          "output_type": "execute_result",
          "data": {
            "text/plain": "   pnr       eksd  perday   ATC  dur_original\n0   10 2023-12-24       4  medE            90\n1   13 2022-01-09       3  medE            30\n2    7 2022-02-22       5  medE            30\n3   16 2023-06-22       3  medC             7\n4   33 2022-11-03       4  medC             7",
            "text/html": "<div>\n<style scoped>\n    .dataframe tbody tr th:only-of-type {\n        vertical-align: middle;\n    }\n\n    .dataframe tbody tr th {\n        vertical-align: top;\n    }\n\n    .dataframe thead th {\n        text-align: right;\n    }\n</style>\n<table border=\"1\" class=\"dataframe\">\n  <thead>\n    <tr style=\"text-align: right;\">\n      <th></th>\n      <th>pnr</th>\n      <th>eksd</th>\n      <th>perday</th>\n      <th>ATC</th>\n      <th>dur_original</th>\n    </tr>\n  </thead>\n  <tbody>\n    <tr>\n      <th>0</th>\n      <td>10</td>\n      <td>2023-12-24</td>\n      <td>4</td>\n      <td>medE</td>\n      <td>90</td>\n    </tr>\n    <tr>\n      <th>1</th>\n      <td>13</td>\n      <td>2022-01-09</td>\n      <td>3</td>\n      <td>medE</td>\n      <td>30</td>\n    </tr>\n    <tr>\n      <th>2</th>\n      <td>7</td>\n      <td>2022-02-22</td>\n      <td>5</td>\n      <td>medE</td>\n      <td>30</td>\n    </tr>\n    <tr>\n      <th>3</th>\n      <td>16</td>\n      <td>2023-06-22</td>\n      <td>3</td>\n      <td>medC</td>\n      <td>7</td>\n    </tr>\n    <tr>\n      <th>4</th>\n      <td>33</td>\n      <td>2022-11-03</td>\n      <td>4</td>\n      <td>medC</td>\n      <td>7</td>\n    </tr>\n  </tbody>\n</table>\n</div>"
          },
          "metadata": {}
        }
      ],
      "execution_count": 3
    },
    {
      "id": "16aff115-63b0-4ff9-acfe-4c80c8a0f4fd",
      "cell_type": "code",
      "source": "",
      "metadata": {
        "trusted": true
      },
      "outputs": [],
      "execution_count": null
    }
  ]
}